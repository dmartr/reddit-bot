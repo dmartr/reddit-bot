{
 "cells": [
  {
   "cell_type": "code",
   "execution_count": 11,
   "metadata": {
    "collapsed": false,
    "scrolled": true
   },
   "outputs": [],
   "source": [
    "import praw, re, collections, nltk\n",
    "import numpy as np\n",
    "import pandas as pd\n",
    "import string"
   ]
  },
  {
   "cell_type": "code",
   "execution_count": 4,
   "metadata": {
    "collapsed": true
   },
   "outputs": [],
   "source": [
    "from nltk.corpus import stopwords"
   ]
  },
  {
   "cell_type": "markdown",
   "metadata": {},
   "source": [
    "The aim of this project is to create a \"bot\" that retrieves all the comments from a subreddit and creates a cool visualization of the trending words in them.  "
   ]
  },
  {
   "cell_type": "code",
   "execution_count": 25,
   "metadata": {
    "collapsed": false
   },
   "outputs": [],
   "source": [
    "def getComments(subreddit, n):\n",
    "    c_list = []\n",
    "    r = praw.Reddit(user_agent='dummy-app')\n",
    "    subreddit = r.get_subreddit(subreddit)\n",
    "    top = subreddit.get_top(params={'t': 'all'}, limit=150)\n",
    "    all_comments = []\n",
    "    for submission in top: \n",
    "        submission_comments = praw.helpers.flatten_tree(submission.comments)\n",
    "        #don't include non comment objects such as \"morecomments\"\n",
    "        real_comments = [comment for comment in submission_comments if isinstance(comment, praw.objects.Comment)]\n",
    "        all_comments += real_comments\n",
    "    all_comments.sort(key=lambda comment: comment.score, reverse=True)\n",
    "    top_comments = all_comments[:n] #top n comments\n",
    "    for comment in top_comments:\n",
    "        c_list.append(str(comment))\n",
    "    return c_list"
   ]
  },
  {
   "cell_type": "code",
   "execution_count": 26,
   "metadata": {
    "collapsed": false
   },
   "outputs": [],
   "source": [
    "comments = getComments('news', 50) #get top 10 comments from all the posts in /r/news"
   ]
  },
  {
   "cell_type": "code",
   "execution_count": 27,
   "metadata": {
    "collapsed": true
   },
   "outputs": [],
   "source": [
    "def commentsToWords(comments):\n",
    "    wordList = []\n",
    "    for comment in comments:\n",
    "        comment = re.sub(\"[^a-zA-Z]\",  \" \", comment) #get only letters\n",
    "        comment = comment.lower()\n",
    "        words = comment.split()\n",
    "        words = [w for w in words if not w in stopwords.words(\"english\")]\n",
    "        wordList.append(words)\n",
    "    return wordList"
   ]
  },
  {
   "cell_type": "code",
   "execution_count": 28,
   "metadata": {
    "collapsed": false
   },
   "outputs": [
    {
     "name": "stdout",
     "output_type": "stream",
     "text": [
      "[['one', 'facet', 'argument', 'goes', 'largely', 'undiscussed', 'something', 'yo'], ['course', 'important', 'reminder', 'everyone', 'emerge'], ['hand', 'hospital', 'bill', 'using', 'car', 'delivery', 'room'], ['official', 'police', 'report', 'never', 'mentioned', 'two', 'gunshots', 'killed', 'hamm'], ['removed'], ['campaign', 'scott', 'said', 'football', 'stadium', 'million', 'solut'], ['fun', 'fact', 'nuclear', 'reactor', 'produces', 'less', 'radiation', 'coal', 'fired', 'plants'], ['white', 'house', 'must', 'finally', 'run', 'sticks', 'jfk', 'hoarded'], ['need', 'bring', 'back', 'stoned', 'michael', 'phelps', 'new', 'subway', 'guy'], ['two', 'weeks', 'surgery', 'kris', 'began', 'show', 'signs', 'improvement', 'three', 'mont'], ['truly', 'glad', 'taxes', 'pay', 'war', 'old', 'people', 'using', 'medicinal', 'plants'], ['wrong', 'picture', 'slamming', 'internet', 'companies'], ['pluto', 'home', 'many', 'super', 'bowl', 'championships', 'minnesota', 'viking'], ['meanwhile', 'ted', 'cruz', 'held', 'two', 'rallies', 'pastor', 'calling', 'death'], ['love', 'netflix', 'time', 'passes', 'hopefully', 'companies'], ['hell', 'hath', 'fury', 'like', 'gay', 'billionaire', 'scorned'], ['know', 'ive', 'giving', 'kudos', 'writers', 'season', 'twist', 'see'], ['got', 'anyone', 'else', 'get', 'tagline'], ['time', 'courts', 'start', 'applying', 'common', 'sense', 'copyright', 'law'], ['outrage', 'local', 'community', 'enough', 'get'], ['prove', 'prove', 'legitimate', 'reason'], ['senior', 'fuck'], ['ca', 'native', 'valley', 'socal', 'gas', 'lied', 'leak', 'customers', 'c'], ['see', 'starting', 'microbiology', 'holy', 'shit', 'went', 'gr'], ['consumers', 'may', 'think', 'antibacterial', 'washes', 'effective', 'preventing'], ['want', 'ban', 'homeless', 'people', 'sleeping', 'outside', 'better', 'build', 'big'], ['marijuana', 'legalized', 'cuban', 'cigars', 'back', 'time', 'alive'], ['son', 'arrested', 'april', 'drunk', 'driving', 'wheel'], ['yep', 'criminal', 'negligence', 'book', 'em', 'danno'], ['imprimis', 'alternative', 'also', 'contains', 'pyrimethamine', 'well', 'leucovorin', 'whi'], ['one', 'read', 'article', 'four', 'charities', 'cancer', 'fund'], ['annoying', 'waiters', 'chain', 'restaurants', 'sing', 'real', 'song', 'inst'], ['police', 'say', 'nothing', 'hide'], ['deleted'], ['things', 'driven', 'profit', 'motive', 'rat'], ['holcomb', 'said', 'told', 'long', 'demand', 'warrant'], ['phrased', 'differently', 'us', 'government', 'paying', 'american', 'corporations', 'da'], ['goldman', 'also', 'agreed', 'say', 'bank', 'failed', 'due', 'diligence', 'ag'], ['man', 'south', 'park', 'joke', 'jared', 'wanting', 'give', 'children', 'aids', 'w'], ['anti', 'vac', 'stupid', 'bacterial', 'meningiti'], ['arrest', 'hosts', 'pretending', 'reporters'], ['defense', 'attorney', 'tom', 'bondurant', 'said', 'years', 'prison', 'would', 'life', 'sente'], ['fletcher', 'honor', 'object', 'judge', 'stevens', 'mr', 'reede'], ['hey', 'believe', 'lifestyle', 'let', 'pour', 'pot', 'boiling', 'wate'], ['ingeniously', 'evil', 'thing', 'heard', 'yet', 'priva'], ['deleted'], ['covington', 'said', 'officer', 'attempting', 'arrest', 'hammond', 'teen', 'ac'], ['group', 'considered', 'murdering', 'teenager', 'fortnight', 'actually', 'car'], ['find', 'hard', 'believe', 'ever', 'allowed', 'civil', 'forfeiture', 'trial', 'kin'], ['deleted']]\n"
     ]
    },
    {
     "name": "stderr",
     "output_type": "stream",
     "text": [
      "/Users/dmartr/anaconda/lib/python3.5/site-packages/nltk/corpus/reader/wordlist.py:25: ResourceWarning: unclosed file <_io.BufferedReader name='/Users/dmartr/nltk_data/corpora/stopwords/english'>\n",
      "  return concat([self.open(f).read() for f in fileids])\n"
     ]
    }
   ],
   "source": [
    "words = commentsToWords(comments)\n",
    "print(words)"
   ]
  },
  {
   "cell_type": "code",
   "execution_count": 39,
   "metadata": {
    "collapsed": false
   },
   "outputs": [
    {
     "name": "stdout",
     "output_type": "stream",
     "text": [
      "one facet argument goes largely undiscussed something yocourse important reminder everyone emergehand hospital bill using car delivery roomofficial police report never mentioned two gunshots killed hammremovedcampaign scott said football stadium million solutfun fact nuclear reactor produces less radiation coal fired plantswhite house must finally run sticks jfk hoardedneed bring back stoned michael phelps new subway guytwo weeks surgery kris began show signs improvement three monttruly glad taxes pay war old people using medicinal plantswrong picture slamming internet companiespluto home many super bowl championships minnesota vikingmeanwhile ted cruz held two rallies pastor calling deathlove netflix time passes hopefully companieshell hath fury like gay billionaire scornedknow ive giving kudos writers season twist seegot anyone else get taglinetime courts start applying common sense copyright lawoutrage local community enough getprove prove legitimate reasonsenior fuckca native valley socal gas lied leak customers csee starting microbiology holy shit went grconsumers may think antibacterial washes effective preventingwant ban homeless people sleeping outside better build bigmarijuana legalized cuban cigars back time aliveson arrested april drunk driving wheelyep criminal negligence book em dannoimprimis alternative also contains pyrimethamine well leucovorin whione read article four charities cancer fundannoying waiters chain restaurants sing real song instpolice say nothing hidedeletedthings driven profit motive ratholcomb said told long demand warrantphrased differently us government paying american corporations dagoldman also agreed say bank failed due diligence agman south park joke jared wanting give children aids wanti vac stupid bacterial meningitiarrest hosts pretending reportersdefense attorney tom bondurant said years prison would life sentefletcher honor object judge stevens mr reedehey believe lifestyle let pour pot boiling wateingeniously evil thing heard yet privadeletedcovington said officer attempting arrest hammond teen acgroup considered murdering teenager fortnight actually carfind hard believe ever allowed civil forfeiture trial kindeleted\n",
      "Counter({'said': 4, 'back': 2, 'believe': 2, 'also': 2, 'people': 2, 'say': 2, 'time': 2, 'using': 2, 'two': 2, 'attempting': 1, 'legitimate': 1, 'emergehand': 1, 'nothing': 1, 'local': 1, 'one': 1, 'song': 1, 'long': 1, 'cancer': 1, 'would': 1, 'judge': 1, 'failed': 1, 'scott': 1, 'passes': 1, 'million': 1, 'bondurant': 1, 'kris': 1, 'companiespluto': 1, 'prove': 1, 'customers': 1, 'minnesota': 1, 'old': 1, 'lied': 1, 'teen': 1, 'legalized': 1, 'microbiology': 1, 'less': 1, 'facet': 1, 'pretending': 1, 'car': 1, 'wanting': 1, 'yet': 1, 'negligence': 1, 'stupid': 1, 'wheelyep': 1, 'show': 1, 'wanti': 1, 'taglinetime': 1, 'slamming': 1, 'reactor': 1, 'civil': 1, 'gas': 1, 'ive': 1, 'april': 1, 'chain': 1, 'yocourse': 1, 'else': 1, 'park': 1, 'profit': 1, 'never': 1, 'coal': 1, 'cigars': 1, 'dagoldman': 1, 'native': 1, 'hammond': 1, 'championships': 1, 'instpolice': 1, 'honor': 1, 'super': 1, 'wateingeniously': 1, 'michael': 1, 'fact': 1, 'must': 1, 'gay': 1, 'kudos': 1, 'companieshell': 1, 'restaurants': 1, 'getprove': 1, 'outside': 1, 'deathlove': 1, 'children': 1, 'vikingmeanwhile': 1, 'billionaire': 1, 'corporations': 1, 'writers': 1, 'hospital': 1, 'ban': 1, 'start': 1, 'roomofficial': 1, 'valley': 1, 'stevens': 1, 'diligence': 1, 'reminder': 1, 'real': 1, 'many': 1, 'lifestyle': 1, 'driving': 1, 'plantswrong': 1, 'four': 1, 'largely': 1, 'cuban': 1, 'officer': 1, 'monttruly': 1, 'build': 1, 'motive': 1, 'cruz': 1, 'everyone': 1, 'antibacterial': 1, 'prison': 1, 'new': 1, 'reasonsenior': 1, 'calling': 1, 'considered': 1, 'shit': 1, 'three': 1, 'allowed': 1, 'give': 1, 'heard': 1, 'bowl': 1, 'something': 1, 'run': 1, 'arrest': 1, 'glad': 1, 'football': 1, 'hoardedneed': 1, 'effective': 1, 'enough': 1, 'signs': 1, 'pay': 1, 'fortnight': 1, 'agreed': 1, 'reportersdefense': 1, 'drunk': 1, 'held': 1, 'dannoimprimis': 1, 'seegot': 1, 'american': 1, 'aids': 1, 'important': 1, 'jfk': 1, 'life': 1, 'book': 1, 'applying': 1, 'contains': 1, 'boiling': 1, 'giving': 1, 'actually': 1, 'solutfun': 1, 'stoned': 1, 'mentioned': 1, 'well': 1, 'fury': 1, 'pyrimethamine': 1, 'object': 1, 'thing': 1, 'washes': 1, 'government': 1, 'pour': 1, 'homeless': 1, 'jared': 1, 'sleeping': 1, 'trial': 1, 'privadeletedcovington': 1, 'demand': 1, 'warrantphrased': 1, 'leucovorin': 1, 'twist': 1, 'went': 1, 'anyone': 1, 'joke': 1, 'think': 1, 'house': 1, 'internet': 1, 'read': 1, 'community': 1, 'bigmarijuana': 1, 'fundannoying': 1, 'taxes': 1, 'goes': 1, 'police': 1, 'kindeleted': 1, 'due': 1, 'us': 1, 'netflix': 1, 'years': 1, 'surgery': 1, 'sing': 1, 'guytwo': 1, 'article': 1, 'starting': 1, 'arrested': 1, 'picture': 1, 'may': 1, 'reedehey': 1, 'home': 1, 'hidedeletedthings': 1, 'lawoutrage': 1, 'weeks': 1, 'preventingwant': 1, 'tom': 1, 'season': 1, 'rallies': 1, 'teenager': 1, 'bring': 1, 'ratholcomb': 1, 'delivery': 1, 'sentefletcher': 1, 'mr': 1, 'evil': 1, 'pastor': 1, 'fired': 1, 'hosts': 1, 'ted': 1, 'copyright': 1, 'undiscussed': 1, 'subway': 1, 'attorney': 1, 'report': 1, 'hard': 1, 'get': 1, 'improvement': 1, 'fuckca': 1, 'argument': 1, 'alternative': 1, 'vac': 1, 'leak': 1, 'sense': 1, 'meningitiarrest': 1, 'paying': 1, 'produces': 1, 'told': 1, 'whione': 1, 'carfind': 1, 'hammremovedcampaign': 1, 'war': 1, 'charities': 1, 'bank': 1, 'like': 1, 'criminal': 1, 'socal': 1, 'better': 1, 'scornedknow': 1, 'waiters': 1, 'phelps': 1, 'grconsumers': 1, 'murdering': 1, 'bacterial': 1, 'let': 1, 'courts': 1, 'driven': 1, 'em': 1, 'hopefully': 1, 'hath': 1, 'finally': 1, 'acgroup': 1, 'nuclear': 1, 'holy': 1, 'began': 1, 'differently': 1, 'agman': 1, 'radiation': 1, 'medicinal': 1, 'plantswhite': 1, 'killed': 1, 'south': 1, 'pot': 1, 'sticks': 1, 'csee': 1, 'forfeiture': 1, 'bill': 1, 'gunshots': 1, 'ever': 1, 'aliveson': 1, 'stadium': 1, 'common': 1})\n"
     ]
    },
    {
     "ename": "TypeError",
     "evalue": "unsupported operand type(s) for +: 'Counter' and 'str'",
     "output_type": "error",
     "traceback": [
      "\u001b[0;31m---------------------------------------------------------------------------\u001b[0m",
      "\u001b[0;31mTypeError\u001b[0m                                 Traceback (most recent call last)",
      "\u001b[0;32m<ipython-input-39-bd7831549c33>\u001b[0m in \u001b[0;36m<module>\u001b[0;34m()\u001b[0m\n\u001b[1;32m      5\u001b[0m \u001b[0mbagsofwords\u001b[0m \u001b[0;34m=\u001b[0m \u001b[0mcollections\u001b[0m\u001b[0;34m.\u001b[0m\u001b[0mCounter\u001b[0m\u001b[0;34m(\u001b[0m\u001b[0mre\u001b[0m\u001b[0;34m.\u001b[0m\u001b[0mfindall\u001b[0m\u001b[0;34m(\u001b[0m\u001b[0;34mr'\\w+'\u001b[0m\u001b[0;34m,\u001b[0m \u001b[0mwString\u001b[0m\u001b[0;34m)\u001b[0m\u001b[0;34m)\u001b[0m\u001b[0;34m\u001b[0m\u001b[0m\n\u001b[1;32m      6\u001b[0m \u001b[0mprint\u001b[0m\u001b[0;34m(\u001b[0m\u001b[0mbagsofwords\u001b[0m\u001b[0;34m)\u001b[0m\u001b[0;34m\u001b[0m\u001b[0m\n\u001b[0;32m----> 7\u001b[0;31m \u001b[0msumbags\u001b[0m \u001b[0;34m=\u001b[0m \u001b[0msum\u001b[0m\u001b[0;34m(\u001b[0m\u001b[0mbagsofwords\u001b[0m\u001b[0;34m,\u001b[0m \u001b[0mcollections\u001b[0m\u001b[0;34m.\u001b[0m\u001b[0mCounter\u001b[0m\u001b[0;34m(\u001b[0m\u001b[0;34m)\u001b[0m\u001b[0;34m)\u001b[0m\u001b[0;34m\u001b[0m\u001b[0m\n\u001b[0m\u001b[1;32m      8\u001b[0m \u001b[0msumbags\u001b[0m\u001b[0;34m\u001b[0m\u001b[0m\n",
      "\u001b[0;31mTypeError\u001b[0m: unsupported operand type(s) for +: 'Counter' and 'str'"
     ]
    }
   ],
   "source": [
    "wString = ''\n",
    "for w in words:\n",
    "    wString += \" \".join(w)\n",
    "print(wString)\n",
    "bagsofwords = collections.Counter(re.findall(r'\\w+', wString))\n",
    "print(bagsofwords)\n",
    "sumbags = sum(bagsofwords, collections.Counter())\n",
    "sumbags"
   ]
  },
  {
   "cell_type": "code",
   "execution_count": null,
   "metadata": {
    "collapsed": true
   },
   "outputs": [],
   "source": []
  }
 ],
 "metadata": {
  "anaconda-cloud": {},
  "kernelspec": {
   "display_name": "Python [Root]",
   "language": "python",
   "name": "Python [Root]"
  },
  "language_info": {
   "codemirror_mode": {
    "name": "ipython",
    "version": 3
   },
   "file_extension": ".py",
   "mimetype": "text/x-python",
   "name": "python",
   "nbconvert_exporter": "python",
   "pygments_lexer": "ipython3",
   "version": "3.5.2"
  }
 },
 "nbformat": 4,
 "nbformat_minor": 0
}
